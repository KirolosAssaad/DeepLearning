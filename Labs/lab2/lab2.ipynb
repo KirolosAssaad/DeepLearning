{
  "nbformat": 4,
  "nbformat_minor": 0,
  "metadata": {
    "colab": {
      "name": "Untitled0.ipynb",
      "provenance": [],
      "collapsed_sections": []
    },
    "kernelspec": {
      "name": "python3",
      "display_name": "Python 3",
      "language": "python"
    }
  },
  "cells": [
    {
      "cell_type": "markdown",
      "metadata": {
        "id": "1--VwHLHB20Y"
      },
      "source": [
        "<table align=\"center\">\n",
        "  <td align=\"center\"><a target=\"_blank\" href=\"https://colab.research.google.com/github/KhaledElTahan/DeepLearning/blob/master/Labs/lab2/lab2.ipynb\">\n",
        "        <img src=\"http://introtodeeplearning.com/images/colab/colab.png?v2.0\"  style=\"padding-bottom:5px;\" />Run in Google Colab</a></td>\n",
        "</table>"
      ]
    },
    {
      "cell_type": "markdown",
      "metadata": {
        "id": "xXkKT_UeCGgB"
      },
      "source": [
        "# Lab 2: Multinominal Classification"
      ]
    },
    {
      "cell_type": "markdown",
      "metadata": {
        "id": "0LkqxKonD2oV"
      },
      "source": [
        "![Multinominal Classification Network](multinominal_classification_net.png)"
      ]
    },
    {
      "cell_type": "markdown",
      "metadata": {
        "id": "Yz5Sop66C2Li"
      },
      "source": [
        "## 2.1 Problem Statement"
      ]
    },
    {
      "cell_type": "markdown",
      "metadata": {
        "id": "sP9r6HwqEX1Q"
      },
      "source": [
        "In this lab we will be addressing the task of multinominal classification of handwritten digits from the famous MNIST dataset. \n",
        "\n",
        "The MNIST dataset consists of 60,000 training images and 10,000 test images.  Our classes are the digits 0-9.\n",
        "\n",
        "You are required to build 2 models to solve this problem:\n",
        "1. A simple using fully connected layers.\n",
        "2. A model using Convolutional Neural Network (CNN) before applying the simple model.\n",
        "\n",
        "You should perform different experiments on the two models, observe the difference in **accuracy** and report them."
      ]
    },
    {
      "cell_type": "markdown",
      "metadata": {
        "id": "J4ES5CaaC9Dc"
      },
      "source": [
        "## 2.2 Problem Details"
      ]
    },
    {
      "cell_type": "markdown",
      "metadata": {
        "id": "nRftyAl1Jsvi"
      },
      "source": [
        "### 2.2.1 Dataset Loading"
      ]
    },
    {
      "cell_type": "markdown",
      "metadata": {
        "id": "YwfZNpB1KCoC"
      },
      "source": [
        "#### Import Needed packages"
      ]
    },
    {
      "cell_type": "code",
      "metadata": {
        "id": "IMziyw2dI1rL"
      },
      "source": [
        "import tensorflow as tf\r\n",
        "import matplotlib.pyplot as plt\r\n",
        "import numpy as np\r\n",
        "import random\r\n",
        "from progressbar import progressbar\r\n"
      ],
      "execution_count": null,
      "outputs": []
    },
    {
      "cell_type": "markdown",
      "metadata": {
        "id": "RtavW6-AKIAP"
      },
      "source": [
        "#### Load Dataset"
      ]
    },
    {
      "cell_type": "code",
      "metadata": {
        "id": "9BQYYUQAKLE8"
      },
      "source": [
        "mnist = tf.keras.datasets.mnist\r\n",
        "(train_images, train_labels), (val_images, val_labels) = mnist.load_data()\r\n",
        "\r\n",
        "train_images = np.expand_dims(train_images, axis=-1) / 255.\r\n",
        "train_labels = np.int64(train_labels)\r\n",
        "\r\n",
        "val_images = np.expand_dims(val_images, axis=-1) / 255.\r\n",
        "val_labels = np.int64(val_labels)"
      ],
      "execution_count": null,
      "outputs": []
    },
    {
      "cell_type": "markdown",
      "metadata": {
        "id": "eeYcbif4KN6Y"
      },
      "source": [
        "#### Plot Dataset Sample"
      ]
    },
    {
      "cell_type": "code",
      "metadata": {
        "id": "A808Xk92KSF1"
      },
      "source": [
        "plt.figure(figsize=(10, 10))\r\n",
        "random_inds = np.random.choice(60000, 36)\r\n",
        "for i in range(36):\r\n",
        "    plt.subplot(6, 6, i + 1)\r\n",
        "    plt.xticks([])\r\n",
        "    plt.yticks([])\r\n",
        "    plt.grid(False)\r\n",
        "    image_ind = random_inds[i]\r\n",
        "    plt.imshow(np.squeeze(train_images[image_ind]), cmap=plt.cm.binary)\r\n",
        "    plt.xlabel(train_labels[image_ind])"
      ],
      "execution_count": null,
      "outputs": []
    },
    {
      "cell_type": "markdown",
      "metadata": {
        "id": "H8MgsliHIizk"
      },
      "source": [
        "**Experiment with the model (as much as possible) and try to obtain best results (follow the TODOs)**\n",
        "\n",
        "You can check tf.keras <a href=\"https://www.tensorflow.org/api_docs/python/tf/keras/\">documentation</a> to give you ideas of what to experiment with\n",
        "\n",
        "### 2.2.1 Fully Connected Neural Network Solution"
      ]
    },
    {
      "cell_type": "markdown",
      "metadata": {
        "id": "yY4CNyvYIq7s"
      },
      "source": [
        "Build a neural network, using tf.keras, consisting of 2 fully connected layers and apply this to the digit classification task, Our network will ultimately output a probability distribution over the 10 digit classes (0-9)."
      ]
    },
    {
      "cell_type": "markdown",
      "metadata": {
        "id": "FOHgt6DSNY3m"
      },
      "source": [
        "![Two Layer Neural Network](2layer_nn.png)"
      ]
    },
    {
      "cell_type": "markdown",
      "metadata": {
        "id": "lgi7HfFnVc1O"
      },
      "source": [
        "#### Define the Two-Layer Neural Network"
      ]
    },
    {
      "cell_type": "markdown",
      "metadata": {
        "id": "cOQxFyWnSSW1"
      },
      "source": [
        "**TODO** \r\n",
        "\r\n",
        "1. Define two layer neural network exactly as in the previous figure by adding two [dense layers](https://keras.io/api/layers/core_layers/dense/).\r\n",
        "2. Try different [activation functions](https://keras.io/api/layers/#layer-activations) for both layers (ReLU, Tanh, and other activations for first layer - Softmax, and other activations for output layer), and report the difference in **accuracy** and plots.\r\n",
        "3. Try different [regularization kernerls](https://keras.io/api/layers/#layer-weight-regularizers), and [regularization layers](https://keras.io/api/layers/#regularization-layers) (L1, L2, Dropout, and other regularizations), and report the difference in **accuracy** and plots. "
      ]
    },
    {
      "cell_type": "code",
      "metadata": {
        "id": "GNZ4WLDvIgpz"
      },
      "source": [
        "def build_fc_model():\n",
        "  fc_model = tf.keras.Sequential([\n",
        "      # First define a Flatten layer\n",
        "      tf.keras.layers.Flatten(),\n",
        "      # '''TODO: Define the first fully connected layer. Try different activation functions.'''\n",
        "\n",
        "      # '''TODO: Define the second Dense layer to output the classification probabilities. Try different activation functions.'''\n",
        " \n",
        "  ])\n",
        "  return fc_model"
      ],
      "execution_count": null,
      "outputs": []
    },
    {
      "cell_type": "markdown",
      "metadata": {
        "id": "ifykalRnViiL"
      },
      "source": [
        "#### Compile the Two-Layer Neural Network"
      ]
    },
    {
      "cell_type": "markdown",
      "metadata": {
        "id": "oesqneR6UQHo"
      },
      "source": [
        "**TODO** \r\n",
        "\r\n",
        "1. Try different [optimizers](https://keras.io/api/optimizers/) (two at least, you are encouraged to try more) and report the difference in **accuracy** and plots.\r\n",
        "2. For each optimizer, try different learning rates and other hyperparameters (If applicable), and report the difference in **accuracy** and plots.\r\n",
        "3. Try different [loss functions](https://keras.io/api/losses/), and report the difference in **accuracy** and plots (only use loss functions applicable for the problem). "
      ]
    },
    {
      "cell_type": "code",
      "metadata": {
        "id": "9hp9o_I_IhHU"
      },
      "source": [
        "fc_model = build_fc_model()\r\n",
        "\r\n",
        "'''TODO: Experiment with different optimizers and learning rates. How do these affect\r\n",
        "    the accuracy of the trained model? Which optimizers and/or learning rates yield\r\n",
        "    the best performance?'''\r\n",
        "fc_model.compile(optimizer=tf.keras.optimizers.SGD(learning_rate=1e-1), \r\n",
        "              loss='sparse_categorical_crossentropy',\r\n",
        "              metrics=['accuracy'])"
      ],
      "execution_count": null,
      "outputs": []
    },
    {
      "source": [
        "#### Print the Two-Layer Neural Network Model Summary"
      ],
      "cell_type": "markdown",
      "metadata": {}
    },
    {
      "cell_type": "code",
      "execution_count": null,
      "metadata": {},
      "outputs": [],
      "source": [
        "fc_model.build((None, train_images.shape[1], train_images.shape[2], train_images.shape[3]))\n",
        "fc_model.summary()"
      ]
    },
    {
      "cell_type": "markdown",
      "metadata": {
        "id": "Lor9fZcVaBJK"
      },
      "source": [
        "#### Train the Two-Layer Neural Network"
      ]
    },
    {
      "cell_type": "code",
      "metadata": {
        "id": "QkfGLP2ZUFqB"
      },
      "source": [
        "BATCH_SIZE = 64\r\n",
        "EPOCHS = 5\r\n",
        "\r\n",
        "nn_hist = fc_model.fit(train_images, train_labels, validation_data=(val_images, val_labels), batch_size=BATCH_SIZE, epochs=EPOCHS)"
      ],
      "execution_count": null,
      "outputs": []
    },
    {
      "cell_type": "markdown",
      "metadata": {
        "id": "1bp0QXiTah5g"
      },
      "source": [
        "#### Plot the Accuracy Curve for the Two-Layer Neural Network"
      ]
    },
    {
      "cell_type": "code",
      "metadata": {
        "id": "1BXjWxM9csaD"
      },
      "source": [
        "# Get training and validation accuracy histories\r\n",
        "training_acc = nn_hist.history['accuracy']\r\n",
        "val_acc = nn_hist.history['val_accuracy']\r\n",
        "\r\n",
        "# Create count of the number of epochs\r\n",
        "epoch_count = range(1, EPOCHS + 1)\r\n",
        "\r\n",
        "# Visualize accuracy history\r\n",
        "plt.figure()\r\n",
        "plt.plot(epoch_count, training_acc, 'r--')\r\n",
        "plt.plot(epoch_count, val_acc, 'b-')\r\n",
        "plt.legend(['2L NN Training Accuracy', '2L NN Val Accuracy'])\r\n",
        "plt.xlabel('Epoch')\r\n",
        "plt.ylabel('Two-Layer NN Accuracy')\r\n",
        "plt.show()"
      ],
      "execution_count": null,
      "outputs": []
    },
    {
      "cell_type": "markdown",
      "metadata": {
        "id": "-OfdyyBmaZXa"
      },
      "source": [
        "#### Evaluate the Two-Layer Neural Network"
      ]
    },
    {
      "cell_type": "code",
      "metadata": {
        "id": "Q20D8vG-cXx0"
      },
      "source": [
        "val_loss, val_acc = fc_model.evaluate(val_images, val_labels)\r\n",
        "\r\n",
        "print('Validation Accuracy:', val_acc)"
      ],
      "execution_count": null,
      "outputs": []
    },
    {
      "cell_type": "markdown",
      "metadata": {
        "id": "3Yn7byOgfw_Z"
      },
      "source": [
        "### 2.2.2 Convolutional Neural Network Solution"
      ]
    },
    {
      "cell_type": "markdown",
      "metadata": {
        "id": "Xs3kSt23gHeI"
      },
      "source": [
        "Build a CNN, using tf.keras, composed of two convolutional layers and pooling layers, followed by two fully connected layers, and ultimately output a probability distribution over the 10 digit classes (0-9)."
      ]
    },
    {
      "cell_type": "markdown",
      "metadata": {
        "id": "33A9PM6lgH4b"
      },
      "source": [
        "![CNN Model](cnn_model.png)"
      ]
    },
    {
      "cell_type": "markdown",
      "metadata": {
        "id": "N2kJtj00ij7-"
      },
      "source": [
        "#### Define the Convolutional Neural Network"
      ]
    },
    {
      "cell_type": "markdown",
      "metadata": {
        "id": "R9tBnp8jiuju"
      },
      "source": [
        "**TODO** \r\n",
        "\r\n",
        "1. Define the convolutional network exactly as in the previous figure by adding two [dense layers](https://keras.io/api/layers/core_layers/dense/).\r\n",
        "2. Try different [activation functions](https://keras.io/api/layers/#layer-activations) for both layers (ReLU, Tanh, and other activations for first layer - Softmax, and other activations for output layer), and report the difference in **accuracy** and plots.\r\n",
        "3. Try different [regularization kernerls](https://keras.io/api/layers/#layer-weight-regularizers), and [regularization layers](https://keras.io/api/layers/#regularization-layers) (L1, L2, Dropout, and other regularizations), and report the difference in **accuracy** and plots. \r\n",
        "4. Try different [convolution filter sizes](https://keras.io/api/layers/convolution_layers/convolution2d/) (two at least), and report the difference in accuracy and plots.\r\n",
        "5. For each convolution filter, try different stride lengthes, and report the difference in accuracy and plots (two at least).\r\n",
        "6. Try different [pooling layers](https://keras.io/api/layers/pooling_layers/) (i.e. change first and second pooling layers into other different pooling layers), and report the difference in accuracy and plots.\r\n",
        "\r\n",
        "**NOTE: Variations for the filter sizes, stride lengths and pooling layers, will mean of course that you will have to use different number of units for the next layers (i.e. you won't stick to the above mentioned figure once you try those variations).**"
      ]
    },
    {
      "cell_type": "code",
      "metadata": {
        "id": "wnDMWshFgILm"
      },
      "source": [
        "def build_cnn_model():\n",
        "    cnn_model = tf.keras.Sequential([\n",
        "        tf.keras.layers.Conv2D(filters=24, kernel_size=(3,3), input_shape=(28, 28, 1), activation=tf.nn.relu),      \n",
        "\n",
        "        tf.keras.layers.MaxPool2D(pool_size=(2,2)),\n",
        "\n",
        "        #'''TODO: Define the second convolutional layer'''\n",
        "\n",
        "        #'''TODO: Define the second max pooling layer'''\n",
        "\n",
        "        tf.keras.layers.Flatten(),\n",
        "        tf.keras.layers.Dense(128, activation=tf.nn.relu),\n",
        "\n",
        "        #'''TODO: Define the last Dense layer'''\n",
        "    ])\n",
        "    return cnn_model"
      ],
      "execution_count": null,
      "outputs": []
    },
    {
      "cell_type": "markdown",
      "metadata": {
        "id": "ZMNCbIm6irX2"
      },
      "source": [
        "#### Compile the Convolutional Neural Network"
      ]
    },
    {
      "cell_type": "markdown",
      "metadata": {
        "id": "0cCC9FLVixWm"
      },
      "source": [
        "**TODO** \r\n",
        "\r\n",
        "1. Try different [optimizers](https://keras.io/api/optimizers/) (two at least), and report the difference in **accuracy** and plots.\r\n",
        "2. For each optimizer, try different learning rates and other hyperparameters (If applicable), and report the difference in **accuracy** and plots.\r\n",
        "3. Try different [loss functions](https://keras.io/api/losses/) (only use losses applicable to the problem), and report the difference in **accuracy** and plots. "
      ]
    },
    {
      "cell_type": "code",
      "metadata": {
        "id": "T_60pHxCpE7h"
      },
      "source": [
        "cnn_model = build_cnn_model()\r\n",
        "\r\n",
        "'''TODO: Experiment with different optimizers and learning rates. How do these affect\r\n",
        "    the accuracy of the trained model? Which optimizers and/or learning rates yield\r\n",
        "    the best performance?'''\r\n",
        "cnn_model.compile(optimizer=tf.keras.optimizers.SGD(learning_rate=1e-1), \r\n",
        "              loss='sparse_categorical_crossentropy',\r\n",
        "              metrics=['accuracy'])"
      ],
      "execution_count": null,
      "outputs": []
    },
    {
      "source": [
        "#### Print the Convolutional Neural Network Model Summary"
      ],
      "cell_type": "markdown",
      "metadata": {}
    },
    {
      "cell_type": "code",
      "execution_count": null,
      "metadata": {},
      "outputs": [],
      "source": [
        "cnn_model.build((None, train_images.shape[1], train_images.shape[2], train_images.shape[3]))\n",
        "cnn_model.summary()"
      ]
    },
    {
      "cell_type": "markdown",
      "metadata": {
        "id": "Vm7Pb6nBi2Wt"
      },
      "source": [
        "#### Train the Convolutional Neural Network"
      ]
    },
    {
      "cell_type": "code",
      "metadata": {
        "id": "AO0W3rXnpTZ2"
      },
      "source": [
        "BATCH_SIZE = 64\r\n",
        "EPOCHS = 5\r\n",
        "\r\n",
        "cnn_hist = cnn_model.fit(train_images, train_labels, validation_data=(val_images, val_labels), batch_size=BATCH_SIZE, epochs=EPOCHS)"
      ],
      "execution_count": null,
      "outputs": []
    },
    {
      "cell_type": "markdown",
      "metadata": {
        "id": "X-bq0vwfi-Pd"
      },
      "source": [
        "#### Plot the Accuracy Curve for the Convolutional Neural Network"
      ]
    },
    {
      "cell_type": "code",
      "metadata": {
        "id": "dnSK5TMEpdMN"
      },
      "source": [
        "# Get training and validation accuracy histories\r\n",
        "training_acc = cnn_hist.history['accuracy']\r\n",
        "val_acc = cnn_hist.history['val_accuracy']\r\n",
        "\r\n",
        "# Create count of the number of epochs\r\n",
        "epoch_count = range(1, EPOCHS + 1)\r\n",
        "\r\n",
        "# Visualize accuracy history\r\n",
        "plt.figure()\r\n",
        "plt.plot(epoch_count, training_acc, 'r--')\r\n",
        "plt.plot(epoch_count, val_acc, 'b-')\r\n",
        "plt.legend(['CNN Training Accuracy', 'CNN Val Accuracy'])\r\n",
        "plt.xlabel('Epoch')\r\n",
        "plt.ylabel('CNN Accuracy')\r\n",
        "plt.show()"
      ],
      "execution_count": null,
      "outputs": []
    },
    {
      "cell_type": "markdown",
      "metadata": {
        "id": "jtqv4xmQjNgV"
      },
      "source": [
        "#### Evaluate the Convolutional Neural Network"
      ]
    },
    {
      "cell_type": "code",
      "metadata": {
        "id": "_ZNPYmqlp-bk"
      },
      "source": [
        "val_loss, val_acc = cnn_model.evaluate(val_images, val_labels)\r\n",
        "\r\n",
        "print('Validation Accuracy:', val_acc)"
      ],
      "execution_count": null,
      "outputs": []
    },
    {
      "cell_type": "markdown",
      "metadata": {
        "id": "8_Ki-NF5rqUW"
      },
      "source": [
        "### One Final Question"
      ]
    },
    {
      "cell_type": "markdown",
      "metadata": {
        "id": "Asucqmxfrtnc"
      },
      "source": [
        "What is the highest accuracy you’re able to achieve using the CNN model, and how does the accuracy of the CNN model compare to the accuracy of the simple fully connected network?\n",
        "\n",
        "To answer this, please add a cell below the question and type the answer" 
      ]
    },
    {
      "cell_type": "markdown",
      "metadata": {
        "id": "g1NPM797C_5V"
      },
      "source": [
        "## 2.3 Conclusion"
      ]
    },
    {
      "cell_type": "markdown",
      "metadata": {
        "id": "bPhiXDFhrim8"
      },
      "source": [
        "That's it! Congratulations on training a multinominal classification models.\r\n",
        "\r\n",
        "Make sure you deliver all the requirements for the submission, Good Luck!"
      ]
    }
  ]
}
